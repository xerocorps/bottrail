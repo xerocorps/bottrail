{
 "cells": [
  {
   "cell_type": "code",
   "execution_count": null,
   "metadata": {},
   "outputs": [],
   "source": [
    "%load_ext autoreload\n",
    "%autoreload 2"
   ]
  },
  {
   "cell_type": "code",
   "execution_count": null,
   "metadata": {},
   "outputs": [],
   "source": [
    "from procedures import create_binance_bot, create_binance_bot_spot, make_get_filepath\n",
    "from pure_funcs import get_template_live_config, ts_to_date, get_daily_from_income\n",
    "from njit_funcs import round_dynamic\n",
    "from time import time, sleep\n",
    "import os\n",
    "import pandas as pd\n",
    "import numpy as np\n",
    "import matplotlib.pyplot as plt"
   ]
  },
  {
   "cell_type": "code",
   "execution_count": null,
   "metadata": {},
   "outputs": [],
   "source": [
    "plt.rcParams[\"figure.figsize\"] = [21, 13]\n",
    "pd.set_option(\"precision\", 10)"
   ]
  },
  {
   "cell_type": "code",
   "execution_count": null,
   "metadata": {},
   "outputs": [],
   "source": [
    "config = get_template_live_config()\n",
    "config[\"symbol\"] = \"XMRUSDT\"  # dummy symbol\n",
    "config[\"exchange\"] = \"binance\"\n",
    "config[\"market_type\"] = \"futures\"\n",
    "config[\"user\"] = \"binance_01\"\n",
    "try:\n",
    "    await bot.session.close()\n",
    "except:\n",
    "    pass\n",
    "if config[\"market_type\"] == \"spot\":\n",
    "    bot = await create_binance_bot_spot(config)\n",
    "else:\n",
    "    bot = await create_binance_bot(config)"
   ]
  },
  {
   "cell_type": "code",
   "execution_count": null,
   "metadata": {},
   "outputs": [],
   "source": [
    "info = await bot.public_get(bot.endpoints[\"exchange_info\"])\n",
    "symbols = [e[\"symbol\"] for e in info[\"symbols\"] if e[\"symbol\"].endswith(\"USDT\")]\n",
    "\n",
    "interval = \"5m\"\n",
    "\n",
    "fpath = f\"logs/binance/ohlcvs_{interval}/\"\n",
    "if os.path.exists(fpath):\n",
    "    print(\"loading cache\")\n",
    "    csvs = {}\n",
    "    for f in [x for x in os.listdir(fpath) if x.endswith(\".csv\")]:\n",
    "        csvs[f[:-4]] = pd.read_csv(fpath + f)\n",
    "else:\n",
    "    fpath = make_get_filepath(f\"logs/binance/ohlcvs_{interval}/\")\n",
    "\n",
    "    data = {}\n",
    "    for s in sorted(symbols):\n",
    "        print(s, end=\" \")\n",
    "        ohlcvs = await bot.fetch_ohlcvs(symbol=s, interval=interval)\n",
    "        data[s] = ohlcvs\n",
    "        sleep(0.5)\n",
    "    # cache as csv for later use\n",
    "    csvs = {}\n",
    "    fpath = make_get_filepath(f\"logs/binance/ohlcvs_{interval}/\")\n",
    "    for s in data:\n",
    "        csvs[s] = pd.DataFrame(data[s])\n",
    "        csvs[s].to_csv(f\"{fpath}{s}.csv\")\n",
    "n_days = (\n",
    "    (csvs[symbols[0]].timestamp.iloc[-1] - csvs[symbols[0]].timestamp.iloc[0]) / 1000 / 60 / 60 / 24\n",
    ")\n",
    "print(\"n days\", n_days)"
   ]
  },
  {
   "cell_type": "code",
   "execution_count": null,
   "metadata": {},
   "outputs": [],
   "source": [
    "def correlation(x, y):\n",
    "    x_mean = x.mean()\n",
    "    y_mean = y.mean()\n",
    "    a = x - x_mean\n",
    "    b = y - y_mean\n",
    "    return ((a * b).sum()) / (((a ** 2).sum() * (b ** 2).sum()) ** 0.5)"
   ]
  },
  {
   "cell_type": "code",
   "execution_count": null,
   "metadata": {},
   "outputs": [],
   "source": [
    "n_symbols = 30\n",
    "vols = [(csvs[s].volume * csvs[s].close).sum() for s in csvs]\n",
    "minvol = sorted(vols)[-n_symbols]\n",
    "ss = [s for s in csvs if (csvs[s].volume * csvs[s].close).sum() >= minvol]\n",
    "corrs = []\n",
    "corrs_dict = {}\n",
    "done = set()\n",
    "for s0 in sorted(ss):\n",
    "    for s1 in sorted(ss):\n",
    "        if s0 == s1:\n",
    "            continue\n",
    "        key = tuple(sorted([s0, s1]))\n",
    "        if key in done:\n",
    "            continue\n",
    "        done.add(key)\n",
    "        x = csvs[s0].close\n",
    "        y = csvs[s1].close\n",
    "        corr = correlation(x, y)\n",
    "        print(f\"\\r{s0} {s1} {corr:.4f}      \", end=\" \")\n",
    "        corrs.append((corr,) + key)\n",
    "\n",
    "corrs_dict = {}\n",
    "corrs_dict_abs = {}\n",
    "for e in corrs:\n",
    "    if e[1] not in corrs_dict:\n",
    "        corrs_dict[e[1]] = {e[2]: e[0]}\n",
    "        corrs_dict_abs[e[1]] = {e[2]: abs(e[0])}\n",
    "\n",
    "    else:\n",
    "        corrs_dict[e[1]][e[2]] = e[0]\n",
    "        corrs_dict_abs[e[1]][e[2]] = abs(e[0])\n",
    "\n",
    "    if e[2] not in corrs_dict:\n",
    "        corrs_dict[e[2]] = {e[1]: e[0]}\n",
    "        corrs_dict_abs[e[2]] = {e[1]: abs(e[0])}\n",
    "\n",
    "    else:\n",
    "        corrs_dict[e[2]][e[1]] = e[0]\n",
    "        corrs_dict_abs[e[2]][e[1]] = abs(e[0])"
   ]
  },
  {
   "cell_type": "code",
   "execution_count": null,
   "metadata": {},
   "outputs": [],
   "source": [
    "# sum correlation of each symbol to every other symbol\n",
    "sorted([(sum(corrs_dict[s].values()), s) for s in corrs_dict])"
   ]
  },
  {
   "cell_type": "code",
   "execution_count": null,
   "metadata": {},
   "outputs": [],
   "source": [
    "# sum abs correlation of each symbol to every other symbol\n",
    "sorted([(sum(corrs_dict_abs[s].values()), s) for s in corrs_dict])"
   ]
  },
  {
   "cell_type": "code",
   "execution_count": null,
   "metadata": {},
   "outputs": [],
   "source": [
    "# mean of all symbol\n",
    "mean_prices = pd.concat([e.close / e.close.iloc[0] for e in csvs.values()], axis=1).mean(axis=1)\n",
    "\n",
    "# compare individual symbol to mean\n",
    "symbol = \"SOLUSDT\"\n",
    "mean_prices.rename(\"mean_prices\").plot()\n",
    "(csvs[symbol].close / csvs[symbol].close.iloc[0]).rename(symbol).plot()\n",
    "plt.legend()"
   ]
  },
  {
   "cell_type": "code",
   "execution_count": null,
   "metadata": {},
   "outputs": [],
   "source": [
    "# compare two symbols\n",
    "symbol0 = \"BNBUSDT\"\n",
    "symbol1 = \"LINKUSDT\"\n",
    "(csvs[symbol0].close / csvs[symbol0].close.iloc[0]).rename(symbol0).plot()\n",
    "(csvs[symbol1].close / csvs[symbol1].close.iloc[0]).rename(symbol1).plot()\n",
    "plt.legend()"
   ]
  },
  {
   "cell_type": "code",
   "execution_count": null,
   "metadata": {},
   "outputs": [],
   "source": []
  }
 ],
 "metadata": {
  "kernelspec": {
   "display_name": "Python 3 (ipykernel)",
   "language": "python",
   "name": "python3"
  },
  "language_info": {
   "codemirror_mode": {
    "name": "ipython",
    "version": 3
   },
   "file_extension": ".py",
   "mimetype": "text/x-python",
   "name": "python",
   "nbconvert_exporter": "python",
   "pygments_lexer": "ipython3",
   "version": "3.9.7"
  }
 },
 "nbformat": 4,
 "nbformat_minor": 4
}
